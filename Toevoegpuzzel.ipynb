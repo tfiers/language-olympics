{
 "cells": [
  {
   "cell_type": "markdown",
   "metadata": {},
   "source": [
    "# Toevoegpuzzel\n",
    "\n",
    "Een computer-oplossing voor [Opgave 6](https://onzetaal.nl/taallympisch/11-augustus) van de 'Taallympische Spelen' van *Onze Taal*.  \n",
    "\n",
    "Hier is nog eens de opgave:  \n",
    "```\n",
    "In deze 'toevoegpuzzel' kan bij elk woord een letter worden toegevoegd  \n",
    "aan de voorkant, zodanig dat er weer een goed woord ontstaat. Achter  \n",
    "elkaar gelezen vormen de acht nieuwe beginletters – indien juist ingevuld –  \n",
    "een woord dat te maken heeft met het land waar de Olympische Spelen  \n",
    "plaatsvinden.\n",
    " \n",
    "_egel\n",
    "_uiterlijk\n",
    "_pletten\n",
    "_egel\n",
    "_epen\n",
    "_jouwen\n",
    "_amper\n",
    "_eerlijk\n",
    "```"
   ]
  },
  {
   "cell_type": "markdown",
   "metadata": {},
   "source": [
    "## Gegevens"
   ]
  },
  {
   "cell_type": "code",
   "execution_count": 14,
   "metadata": {
    "collapsed": false
   },
   "outputs": [],
   "source": [
    "# Woordenlijst\n",
    "DICT_URL = 'https://raw.githubusercontent.com/tfiers/language-olympics/master/woordenlijst.txt'\n",
    "\n",
    "from requests import get\n",
    "text = get(DICT_URL).text\n",
    "words = [line.lower() for line in text.splitlines()]\n",
    "\n",
    "# Opgave\n",
    "suffixes = ('egel',\n",
    "            'uiterlijk',\n",
    "            'pletten',\n",
    "            'egel',\n",
    "            'epen',\n",
    "            'jouwen',\n",
    "            'amper',\n",
    "            'eerlijk')"
   ]
  },
  {
   "cell_type": "markdown",
   "metadata": {},
   "source": [
    "## Toevoegingen"
   ]
  },
  {
   "cell_type": "code",
   "execution_count": 15,
   "metadata": {
    "collapsed": false
   },
   "outputs": [
    {
     "name": "stdout",
     "output_type": "stream",
     "text": [
      "  egel   uiterlijk   pletten   egel   epen   jouwen   amper   eerlijk\n",
      " degel  ruiterlijk  opletten  degel  iepen  sjouwen  camper  deerlijk\n",
      " kegel                        kegel  kepen           damper  heerlijk\n",
      " pegel                        pegel  nepen           kamper          \n",
      " regel                        regel  repen           pamper          \n",
      " tegel                        tegel  zepen                           \n",
      " wegel                        wegel  gepen                           \n",
      " zegel                        zegel  hepen                           \n"
     ]
    }
   ],
   "source": [
    "# (Comments and code in English, as Python syntax is in English).\n",
    "# For every suffix, make a list of words that end in this suffix.\n",
    "completions = [[w for w in words if w[1:] == s] for s in suffixes]\n",
    "\n",
    "# We use Pandas for pretty printing the lists as a table.\n",
    "import pandas as pd\n",
    "# 'fillna' is used to replace 'None' with an empty string.\n",
    "# We transpose the dataframe to place completions in columns per suffix.\n",
    "df = pd.DataFrame(completions, index=suffixes).fillna('').transpose()\n",
    "# Print the dataframe, without the '0 1 2 ..' column.\n",
    "print(df.to_string(index=False))"
   ]
  },
  {
   "cell_type": "markdown",
   "metadata": {},
   "source": [
    "## Oplossing"
   ]
  },
  {
   "cell_type": "code",
   "execution_count": 16,
   "metadata": {
    "collapsed": false
   },
   "outputs": [
    {
     "name": "stdout",
     "output_type": "stream",
     "text": [
      "tropisch\n"
     ]
    }
   ],
   "source": [
    "# For every list of suffix completions, make a list\n",
    "# consisting of the first letters of these completions.\n",
    "first_letters = [[w[0] for w in l] for l in completions]\n",
    "\n",
    "# Build a regex pattern:\n",
    "import re\n",
    "pattern = ''\n",
    "# Loop over all positions in the sought word.\n",
    "# For every position, add a 'character set' of\n",
    "# all possible letters at that position.\n",
    "for possibilities in first_letters:\n",
    "    pattern += '['+''.join(possibilities)+']'\n",
    "# The dollar-sign signifies 'end of string'.\n",
    "# This restricts the search to matches exactly as long as we want.\n",
    "pattern += '$'\n",
    "\n",
    "# Search dictionary for the solution.\n",
    "matches = [w for w in words if re.match(pattern, w)]\n",
    "for m in matches:\n",
    "    print(m)"
   ]
  }
 ],
 "metadata": {
  "kernelspec": {
   "display_name": "Python 2",
   "language": "python",
   "name": "python2"
  },
  "language_info": {
   "codemirror_mode": {
    "name": "ipython",
    "version": 2
   },
   "file_extension": ".py",
   "mimetype": "text/x-python",
   "name": "python",
   "nbconvert_exporter": "python",
   "pygments_lexer": "ipython2",
   "version": "2.7.11"
  }
 },
 "nbformat": 4,
 "nbformat_minor": 0
}
